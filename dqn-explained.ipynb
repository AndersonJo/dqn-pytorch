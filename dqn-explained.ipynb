{
 "cells": [
  {
   "cell_type": "markdown",
   "metadata": {
    "deletable": true,
    "editable": true
   },
   "source": [
    "# Deep Reinforcement Learning\n",
    "\n",
    "* [Deep Q Learning Nature Paper - Human-level control through deep reinforcement\n",
    "learning](https://storage.googleapis.com/deepmind-media/dqn/DQNNaturePaper.pdf)\n",
    "* [Playing Atari with Deep Reinforcement Learning](https://www.cs.toronto.edu/~vmnih/docs/dqn.pdf)\n",
    "* [LET’S MAKE A DQN: FULL DQN](https://jaromiru.com/2016/10/21/lets-make-a-dqn-full-dqn/)\n",
    "\n",
    "\n",
    "**Temporal Difference Learning**\n",
    "\n",
    "* [An Introduction to Temporal Difference Learning](http://www.ias.informatik.tu-darmstadt.de/uploads/Teaching/AutonomousLearningSystems/Kunz_ALS_2013.pdf)\n",
    "* [Temporal-Difference Learning](https://www.tu-chemnitz.de/informatik/KI/scripts/ws0910/ml09_6.pdf)\n",
    "\n"
   ]
  },
  {
   "cell_type": "code",
   "execution_count": 2,
   "metadata": {
    "collapsed": false,
    "deletable": true,
    "editable": true
   },
   "outputs": [
    {
     "name": "stdout",
     "output_type": "stream",
     "text": [
      "Populating the interactive namespace from numpy and matplotlib\n"
     ]
    }
   ],
   "source": [
    "%pylab inline\n",
    "import numpy as np\n",
    "import pandas as pd\n",
    "from scipy.special import huber, pseudo_huber\n",
    "from sklearn.metrics import mean_absolute_error, mean_squared_error"
   ]
  },
  {
   "cell_type": "markdown",
   "metadata": {
    "deletable": true,
    "editable": true
   },
   "source": [
    "### Deep Q Network의 특징 \n",
    "\n",
    "Q-network에서 neural network를 사용하면 DQN은 다음과 같은 특징을 통해 향상을 시켰습니다. \n",
    "\n",
    "1. Multi-layer convolutional network를 통해서 더 복잡한 문제를 해결함 \n",
    "2. Experience Replay를 통해 더 stable한 모델을 만들수 있게 됨\n",
    "3. target network 를 사용 (즉 2개의 neural network를 사용)"
   ]
  },
  {
   "cell_type": "markdown",
   "metadata": {
    "deletable": true,
    "editable": true
   },
   "source": [
    "## Future Discounted Return \n",
    "\n",
    "Agent의 목표는 future reward를 최대치로 하는 actions을 선택하는 것입니다.<br>\n",
    "여기서 future reward란 $ \\gamma $ 배수만큼 (a factor of $ \\gamma $ per time-step) discounted 되는 것을 의미합니다. <br>\n",
    "쉽게 이야기해서 먼미래의 reward일수록, 더 적은 reward로 계산하겠다는 뜻입니다.\n",
    "\n",
    "### $$ R_t = \\sum^T_{t^{\\prime} = t} \\gamma^{t^{\\prime} - t} r_{t^{\\prime}} $$\n",
    "\n",
    "$ T $는 게임이 끝나는 시점의 time-step을 의미하며 $ \\gamma \\in [0, 1] $ 의 값을 갖습니다.\n",
    "\n",
    "아래의 코드에서는 gamma 값이 시간의 흐름에 따른 변화를 그렸습니다.<br>\n",
    "먼 미래의 reward값일수록 0에 가까운 gamma값과 곱해야 하기 때문에<br>\n",
    "코앞의 reward는 가중치가 높고, 먼 미래는 reward는 가중치가 낮게 됩니다."
   ]
  },
  {
   "cell_type": "code",
   "execution_count": 12,
   "metadata": {
    "collapsed": false,
    "deletable": true,
    "editable": true
   },
   "outputs": [
    {
     "data": {
      "image/png": "[encoded data removed]",
      "text/plain": [
       "<matplotlib.figure.Figure at 0x7f3bc1095eb8>"
      ]
     },
     "metadata": {},
     "output_type": "display_data"
    }
   ],
   "source": [
    "def gamma_values(gamma=0.9, n=50):\n",
    "    return [gamma**i for i in range(1, n)]\n",
    "\n",
    "plot(gamma_values())\n",
    "title('gamma value in regard with t. gamma=0.9, n=50')\n",
    "xlabel('time t')\n",
    "ylabel('gamma value')\n",
    "grid()"
   ]
  },
  {
   "cell_type": "markdown",
   "metadata": {
    "deletable": true,
    "editable": true
   },
   "source": [
    "## Optimal action-value Function and Bellman Equation \n",
    "\n",
    "기본적으로 Reinforcement Learning의 목표는 expected return을 최대치로 하는 policy를 학습하는 것이며,<br>\n",
    "아래의 공식과 같은 <span style=\"color:red\">**Optimal action-value function $ Q^{*}(s, a) $**</span> 을 사용합니다. <br>\n",
    "즉 어떤 특정 state $ s_t $ 에서 특정 action $ a_t $ 를 취했을때 얻게되는 **expected return** 을 나타냅니다.\n",
    "\n",
    "$$ \\begin{align}\n",
    "Q^{*} (s, a) &= \\max_{\\pi} \\mathbb{E} \\left[ r_t + \\gamma r_{t+1} + \\gamma^2 r_{t+2} + ... \\big|\\ s_t =s, a_t = a, \\pi \\right] \\\\\n",
    "&= \\max_{\\pi} \\mathbb{E} \\left[ R_t \\big| \\ s_t=s, a_t =a, \\pi \\right] \n",
    "\\end{align} $$\n",
    "\n",
    "Optimal Action-Value Function은  <span style=\"color:red\">**Bellman Equation**</span>을 따릅니다. <br>\n",
    "만약 optimal value $ Q^{*}(s^{\\prime}, a^{\\prime}) $ (여기서 $ s^{\\prime} $는 next time-step의 state이고, $ a^{\\prime} $는 모든 가능한 actions들을 말함) 의 값을 알고 있다면, <br>\n",
    "expected value $ r + \\gamma Q^{*}(s^{\\prime}, a^{\\prime}) $를 maximize 하는 action $ a^{\\prime} $을 선택하는 것에 기초를 두고 있습니다.\n",
    "\n",
    "$$ Q^{*} (s, a) = \\mathbb{E}_{s^{\\prime} \\sim \\varepsilon} \\left[ r + \\gamma \\max_{a^{\\prime}} Q^{*} \\left(s^{\\prime}, a^{\\prime}\\right) \\  \\big| \\ s, a \\right] $$\n",
    "\n",
    "\n",
    "> <span style=\"color:#999999\">위의 bellman equation은 reinforcement learning에서 기본적인 방향틀이지 정말로 위의 공식을 사용해서 구한다는 뜻은 아닙니다. <br>\n",
    "> 실제 위의 공식을 \"따라서\" 구현한 알고리즘이 value iteration, policy iteration, Q-Learning, DQN 등등이 있습니다. <br>\n",
    "> 즉 일종의 개념이라고 생각하면 됩니다. </span>"
   ]
  },
  {
   "cell_type": "markdown",
   "metadata": {
    "deletable": true,
    "editable": true
   },
   "source": [
    "## Nonlinear Approximator and Loss Function\n",
    "\n",
    "일반적으로 iterative update를 통한 (value iteration 또는 policy iteration알고리즘등등) action-value function을 \n",
    "구하는 것은 일반화 시키지 못하며, 연산도가 매우 높아 복잡한 문제일수록 풀수가 없습니다.\n",
    "따라서 **function approximator**를 사용하여 action-value function을 측정합니다.\n",
    "\n",
    "$$ Q(s, a; \\theta) \\approx Q^{*} (s, a) $$\n",
    "\n",
    "보통 Reinforcement Learning에서는 Linear function approximator를 사용하지만, <br>\n",
    "Deep Q Learning에서는 Nonlinear function approximator인 뉴럴네트워크를 사용합니다.<br>\n",
    "위의 공식에서 neural network function approximator로서 weights $ \\theta $가 Q-network로 사용되었습니다.<br>\n",
    "즉 Q-network는 parameters $ \\theta $를 조정해가면서 학습이 진행됩니다.\n",
    "\n",
    "Loss function은 mean-squared error를 사용합니다.<br>\n",
    "이때 Bellman Equation의 **optimal target values** $ r + \\gamma \\max_{a^{\\prime}} Q^{*}\\left(s^{\\prime}, a^{\\prime}\\right) $ 이 부분을 <br>\n",
    "approximate target values $ y = r + \\gamma \\max_{a^{\\prime}} Q \\left( s^{\\prime}, a^{\\prime}; \\theta^{(-)}_i \\right) $ 으로 대체시켜줍니다. \n",
    "\n",
    "따라서 최종 <span style=\"color:red\">**Loss Function**</span>은 다음과 같습니다.\n",
    "\n",
    "$$ L_i(\\theta_i) = \\mathbb{E}_{s, a, r} \\left[ \\left(\n",
    "r + \\gamma \\max_{a^{\\prime}} Q\\big( s^{\\prime}, a^{\\prime} ; \\theta^{-}_i \\big)\n",
    "- Q\\big( s, a; \\theta_{i} \\big)\n",
    " \\right)^2  \\right] $$\n",
    " \n",
    "Target network $ Q^{-} $ 는 training중에만 사용되며 Loss를 구할때 사용이 됩니다.<br>\n",
    "즉 2개의 networks를 사용하는 것이며 target network는 주기적 또는 느리게 업데이트가 됩니다.<br>\n",
    "1개의 network사용시 예를들어... $ Q(s, a) $ 그리고 $  Q(s^{\\prime}, a) $ 는 1step밖에 차이가 나지 않으며 이는 서로 매우 가까움을 의미합니다. 마치 고양이가 자기 자신의 꼬리를 잡으려고 계속 돌듯이.. target의 값이 지속적으로 shift되는 상황은 instability, oscillation 또는 divergence로 이어질수 있습니다. \n",
    "\n",
    "Target network의 장점은 stable한 learning을 만들어주지만, 단점으로는 학습속도가 매우 저하되며 <br>\n",
    "이유는 Q network에서 변경된 값은 바로 적용되지 않으며, target network 상당한 시간 이후에 업데이트가 되기 때문 입니다.<br>\n",
    "target network가 업데이트 되는 시점은 보통 10000번 정도의 step이후에 업데이가 되게 됩니다. \n",
    "\n",
    "> 복잡한 문제일수록 target network의 update시점을 늦게 잡습니다. (예를 들어 50000) <br>\n",
    "> 문제가 복잡하지 않다면 update시점을 좀 빠르게 잡아도 됩니다.\n",
    "\n",
    "<span style=\"color:#999999\">\n",
    "구글 딥마인드에서 내놓은 DQN Nature 논문에서는 target network를 바로 이전 step의 network로 지칭하고 있습니다.<br>\n",
    "추후 딥마인드팀에서는 이 방법이 문제가 있다는것을 알았고, 추가적인 논문에서 target network의 update를 늦은 시점에서 하는 것을 발표합니다.\n",
    "</span>"
   ]
  },
  {
   "cell_type": "markdown",
   "metadata": {
    "deletable": true,
    "editable": true
   },
   "source": [
    "## Frame-skipping Technique \n",
    "\n",
    "간단히 말해 Agent는 모든 frame마다 action을 선택하는 것이 아니라, $ k $ 번째마다 action을 선택하는 형태입니다. <br>\n",
    "그리고 마지막에 했었던 action을 skipped frames에서 선택을 합니다. <br>\n",
    "이것을 통해서 많은 computation을 줄일수 있습니다.<br>\n",
    "구글 딥마인드 Nature논문에서는 $ k=4 $ 값으로 실행했습니다.  "
   ]
  },
  {
   "cell_type": "markdown",
   "metadata": {
    "deletable": true,
    "editable": true
   },
   "source": [
    "## Error Clipping\n",
    "\n",
    "Mean Squared Error (MSE) loss function을 위해서 사용하였습니다. \n",
    "\n",
    "$$ \\text{MSE} = \\frac{1}{N} \\sum^n_{i=1} \\left( \\hat{y}_i - y_i \\right)^2 $$\n",
    "\n",
    "문제는 제곱을 하게 되는 부분에서 MSE는 너무나 큰 값의 loss를 만들어내게 됩니다. <br>\n",
    "이는 DQN에서는 unstable한 learning이 될 수 있습니다. <br>\n",
    "따라서 다른 대안으로 Mean Absolute Error(MAE) 를 사용할 수 있습니다.\n",
    "\n",
    "$$ \\text{MAE} = \\frac{1}{N} \\sum^n_{i=1} \\big|\\ \\hat{y}_i - y_i \\ \\big| $$\n",
    "\n",
    "MSE가 값이 커질때 너무 커지는 단점이 있었다면, MAE의 경우 loss값이 작을때 너무 작아져서 학습이 느려지는 단점이 있습니다.<br>\n",
    "MSE와 MAE의 2가지의 단점을 극복한 loss function 이 있습니다.\n",
    "\n",
    "**Huber loss** function을 사용하면 MSE와 MAE의 장점을 섞어서 사용할수 있습니다.<br>\n",
    "즉 loss값이 작을때는 MSE를 사용한것과 같으며, loss값이 크면 MAE를 사용한것과 같은 효과를 낼 수 있습니다.\n",
    "\n",
    "$$ \\text{HL} = \\frac{1}{N} \\sum^N_{i=1} L_\\delta(a) $$\n",
    "\n",
    "여기서 $ L_\\delta(a) $ 는 다음과 같습니다.\n",
    "\n",
    "$$  L_\\delta(a)=\\begin{cases}\n",
    "\\frac{1}{2}a^2                & |a|\\leq \\delta,\\\\\n",
    "\\delta(|a|-\\frac{1}{2}\\delta) &\\text{otherwise}\n",
    "\\end{cases} $$\n",
    "\n",
    "delta $ \\delta $ 는 값이 커지면 커질수록 y값의 증가량이 점점 커짐. \n",
    "\n",
    "> 실제 딥마인드팀의 DQN 논문에서는 error clipping을 1과 -1사이로 제한을 하였습니다. <br>\n",
    "> 이렇게 제한을 걸면 여러게임에서 동일한 learning rate를 사용할수 있도록 만들어 줍니다. <br>\n",
    "> 즉 delta값이 제한됨으로서 다양한 게임에서 완만하게 학습될 수 있도록 해줍니다."
   ]
  },
  {
   "cell_type": "code",
   "execution_count": 4,
   "metadata": {
    "collapsed": false,
    "deletable": true,
    "editable": true,
    "scrolled": false
   },
   "outputs": [
    {
     "data": {
      "text/plain": [
       "<matplotlib.axes._subplots.AxesSubplot at 0x7faa154f1b38>"
      ]
     },
     "execution_count": 4,
     "metadata": {},
     "output_type": "execute_result"
    },
    {
     "data": {
      "image/png": "[encoded data removed]",
      "text/plain": [
       "<matplotlib.figure.Figure at 0x7faa17c407b8>"
      ]
     },
     "metadata": {},
     "output_type": "display_data"
    }
   ],
   "source": [
    "DELTA = 0.5\n",
    "\n",
    "\n",
    "\n",
    "data = {'mean sqaured error': [], \n",
    "        'mean absolute error': [], \n",
    "        'huber': [], \n",
    "        'pseudo huber': [],\n",
    "        'my huber': []}\n",
    "x = np.arange(-4, 4.1, 0.1)\n",
    "\n",
    "def anderson_huber(delta, value):\n",
    "    \"\"\"\n",
    "    scipy.special.huber의 결과값과 동일하게 나옴.\n",
    "    \"\"\"\n",
    "    \n",
    "    if abs(value) <= delta:\n",
    "        return 1/2 * value**2\n",
    "    return delta * (abs(value) - 1/2 * delta)\n",
    "\n",
    "for y in x:\n",
    "    mse = mean_squared_error([0], [y])\n",
    "    mae = mean_absolute_error([0], [y])\n",
    "    he = huber(DELTA, 0-y)\n",
    "    my_he = anderson_huber(DELTA, 0-y)\n",
    "    phe = pseudo_huber(DELTA, 0-y)\n",
    "    \n",
    "    data['mean sqaured error'].append(mse)\n",
    "    data['mean absolute error'].append(mae)\n",
    "    data['huber'].append(he)\n",
    "    data['pseudo huber'].append(phe)\n",
    "    data['my huber'].append(my_he)\n",
    "\n",
    "\n",
    "del data['pseudo huber']\n",
    "data = pd.DataFrame(data, index=x)\n",
    "data.plot()"
   ]
  },
  {
   "cell_type": "markdown",
   "metadata": {
    "deletable": true,
    "editable": true
   },
   "source": [
    "### Experience Replay and Loss Function\n",
    "\n",
    "게임을 진행하면서 학습을 할 경우 observation sequence같의 연관성(correlation)때문에 학습이 제대로 안 될수 있습니다.<br>\n",
    "연관성을 끊어주는 방법으로 experience replay를 사용합니다.\n",
    "\n",
    "먼저 Agent의 experiences $ e_t = (s_t, a_t, r_t, s_{t+1} )$를 각각의 time-step마다 data set $ D_t = \\{ e_1, e_2, ..., e_t \\} $에 저장합니다.<br>\n",
    "학습시 Q-Learning updates를 uniformly random으로 꺼내진 experiences $ (s, a, r, s^{\\prime}) \\sim U(D) $ 통해 실행하게 됩니다.<br>\n",
    "궁극적으로 <span style=\"color:red\">**Loss function**</span> 은 다음과 같게 됩니다.\n",
    "\n",
    "$$ L_i(\\theta_i) = \\mathbb{E}_{s, a, r, s^{\\prime}} \\sim U(D) \\left[ \\left( r + \\gamma \\max_{a^{\\prime}} Q\\left(s^{\\prime}, a^{\\prime}; \\theta^{-}_i\\right) - Q\\left( s, a; \\theta_i \\right) \\right)^2 \\right] $$\n"
   ]
  },
  {
   "cell_type": "markdown",
   "metadata": {
    "deletable": true,
    "editable": true
   },
   "source": [
    "## Deep Q-Learning with Experience Replay Algorithm\n",
    "\n",
    "<img src=\"./images/deep-q-learning-algorithm.png\">\n"
   ]
  }
 ],
 "metadata": {
  "kernelspec": {
   "display_name": "Python 3",
   "language": "python",
   "name": "python3"
  },
  "language_info": {
   "codemirror_mode": {
    "name": "ipython",
    "version": 3
   },
   "file_extension": ".py",
   "mimetype": "text/x-python",
   "name": "python",
   "nbconvert_exporter": "python",
   "pygments_lexer": "ipython3",
   "version": "3.6.1"
  }
 },
 "nbformat": 4,
 "nbformat_minor": 0
}
